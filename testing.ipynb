{
 "cells": [
  {
   "cell_type": "code",
   "execution_count": 1,
   "metadata": {},
   "outputs": [],
   "source": [
    "import numpy as np \n",
    "import matplotlib.pyplot as plt\n",
    "\n",
    "%matplotlib inline"
   ]
  },
  {
   "cell_type": "code",
   "execution_count": 35,
   "metadata": {},
   "outputs": [],
   "source": [
    "class Ising2D:\n",
    "    def __init__(self,system,J,N,T,H,steps):\n",
    "        #initialize the system variables \n",
    "        \n",
    "        if system == \"aligned\":\n",
    "            self.system = np.ones((N,N), dtype=int)      # N x N matrix of dipoles with spin up (1)\n",
    "        elif system == \"random\":\n",
    "            self.system =  2*np.random.randint(2, size = (N,N)) - 1     # N x N matrix of dipoles with spin up (1) or spin down (-1)\n",
    "        else:\n",
    "            print(\"Invalid system argument: input 'aligned' or 'random'\")\n",
    "            \n",
    "        self.J      = J \n",
    "        self.N      = N           # Number of lattice points (dipoles) in the system\n",
    "        self.T      = T           # Temperature of system\n",
    "        self.H      = H           # External magnetic field\n",
    "        self.steps  = steps       # Number of monte carlo steps \n",
    "        \n",
    "        #initialize system parameters\n",
    "        \n",
    "        self.E_tot  = self.getTotalEnergy()\n",
    "        self.M      = np.sum(self.system.astype(float))/(self.N**2)\n",
    "        \n",
    "    def getNeighbors(self,i,j):\n",
    "        neighborhood =  self.system[(i+1)%self.N, j] + self.system[i,(j+1)%self.N] + self.system[(i-1)%self.N, j] + self.system[i,(j-1)%self.N]\n",
    "        return neighborhood\n",
    "        \n",
    "    def getEnergy(self,i,j):\n",
    "        s = self.system[i,j]\n",
    "        neighborhood = self.getNeighbors(i,j)\n",
    "        energy = ((-s * neighborhood) - (self.H * s))\n",
    "        return energy\n",
    "        \n",
    "    def getTotalEnergy(self):\n",
    "        energy = 0\n",
    "        for i in range(self.N):\n",
    "            for j in range(self.N):\n",
    "                energy += self.getEnergy(i,j)\n",
    "        return energy/2\n",
    "        \n",
    "        \n",
    "    def getMagnetization(self):\n",
    "        self.M = np.sum(self.system.astype(float))/(self.N**2)\n",
    "    \n",
    "    def metropolisStep(self,i,j):\n",
    "        #calculate the contribution to energy at the specified lattice point before flipping spin\n",
    "        #print(self.system)\n",
    "        #print(self.E_tot)\n",
    "        beta = 1/self.T\n",
    "        E_i = self.getEnergy(i,j)\n",
    "        #print('initial energy:', E_i)\n",
    "        #flip the spin at position i,j\n",
    "        self.system[i,j] *= -1\n",
    "        #calculate the contribution to energy at specified lattice point after flipping spin\n",
    "        E_f = self.getEnergy(i,j)\n",
    "        #print('final energy:', E_f)\n",
    "        dE = E_f - E_i\n",
    "        #if the change in energy is negative, update the system energy and keep flipped spin. Do the same if Boltzman condition is satisfied. If not flip the spin back and do not update energy\n",
    "        if dE < 0:\n",
    "            #print('flip accepted')\n",
    "            self.E_tot += dE\n",
    "        elif np.random.rand() < np.exp(-beta*dE):\n",
    "            #print('flip accepted by chance')\n",
    "            self.E_tot += dE\n",
    "        else:\n",
    "            #print('flip rejected')\n",
    "            self.system[i,j] *= -1\n",
    "        self.getMagnetization()\n",
    "            \n",
    "    def run(self):\n",
    "        for l in range(self.steps):\n",
    "            i = np.random.randint(self.N)\n",
    "            j = np.random.randint(self.N)\n",
    "            self.metropolisStep(i,j)\n",
    "    \n",
    "    def test(self):\n",
    "        M = []\n",
    "        for l in range(self.steps):\n",
    "            i = np.random.randint(self.N)\n",
    "            j = np.random.randint(self.N)\n",
    "            self.metropolisStep(i,j)\n",
    "            M.append(self.M)\n",
    "        return M\n",
    "            \n",
    "    def changingTemp(self,temps):\n",
    "        a1 = np.linspace(0.0001, 2, 10)\n",
    "        a2 = np.linspace(2, 3, 100)\n",
    "        a3 = np.linspace(3,10,80)\n",
    "        a4 = np.linspace(10,30,100)\n",
    "        temp_array = np.concatenate((a1, a2,a3))\n",
    "        temp_array_hot = np.concatenate((a1,a2,a3,a4))\n",
    "        if temps == \"cool\":\n",
    "            temps = temp_array.flip()\n",
    "        elif temps == \"heat\":\n",
    "            temps = temp_array\n",
    "        elif temps == \"hotcool\":\n",
    "            temps = temp_array_hot.flip()\n",
    "        else:\n",
    "            print(\"Error: invalid temps argument\")\n",
    "            return\n",
    "        E = []\n",
    "        M = []\n",
    "        for i in np.nditer(temps):\n",
    "            self.T = i\n",
    "            self.run()\n",
    "            E.append(self.E_tot)\n",
    "            M.append(self.M)\n",
    "        return E,M,temps\n",
    "        \n",
    "        \n",
    "        \n",
    "   "
   ]
  },
  {
   "cell_type": "code",
   "execution_count": 36,
   "metadata": {},
   "outputs": [],
   "source": [
    "N = 25\n",
    "T = 10\n",
    "J = 1\n",
    "H = 0\n",
    "steps = 2500\n",
    "\n",
    "\n",
    "Ising = Ising2D('aligned',J,N,T,H,steps)\n",
    "#Ising.run()"
   ]
  },
  {
   "cell_type": "code",
   "execution_count": 37,
   "metadata": {},
   "outputs": [],
   "source": [
    "E,M,temps = Ising.changingTemp('heat')\n",
    "\n",
    "def mag(T):\n",
    "    z = np.exp(-2/T)\n",
    "    if T > 2.269185:\n",
    "        return 0\n",
    "    else:\n",
    "        return (((1 + z**2)**(.25))*(1-6*z**2 + z**4)**(.125))/np.sqrt((1-z**2))\n",
    "\n",
    "mags = []\n",
    "for i in np.nditer(temps):\n",
    "    mags.append(mag(i))"
   ]
  },
  {
   "cell_type": "code",
   "execution_count": 38,
   "metadata": {},
   "outputs": [
    {
     "data": {
      "image/png": "[encoded data removed]",
      "text/plain": [
       "<Figure size 432x288 with 1 Axes>"
      ]
     },
     "metadata": {
      "needs_background": "light"
     },
     "output_type": "display_data"
    }
   ],
   "source": [
    "plt.scatter(temps,np.array(E)/625, color = 'r')\n",
    "#plt.scatter(temps,M, color = 'b')\n",
    "#plt.plot(temps,mags)\n",
    "plt.show()\n",
    "        "
   ]
  },
  {
   "cell_type": "code",
   "execution_count": 39,
   "metadata": {},
   "outputs": [
    {
     "data": {
      "image/png": "[encoded data removed]",
      "text/plain": [
       "<Figure size 432x288 with 1 Axes>"
      ]
     },
     "metadata": {
      "needs_background": "light"
     },
     "output_type": "display_data"
    }
   ],
   "source": [
    "plt.scatter(temps,M, color = 'b')\n",
    "plt.plot(temps,mags)\n",
    "plt.show()"
   ]
  },
  {
   "cell_type": "code",
   "execution_count": null,
   "metadata": {},
   "outputs": [],
   "source": []
  }
 ],
 "metadata": {
  "kernelspec": {
   "display_name": "Python 3",
   "language": "python",
   "name": "python3"
  },
  "language_info": {
   "codemirror_mode": {
    "name": "ipython",
    "version": 3
   },
   "file_extension": ".py",
   "mimetype": "text/x-python",
   "name": "python",
   "nbconvert_exporter": "python",
   "pygments_lexer": "ipython3",
   "version": "3.6.5"
  }
 },
 "nbformat": 4,
 "nbformat_minor": 2
}
