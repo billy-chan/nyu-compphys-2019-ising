{
 "cells": [
  {
   "cell_type": "code",
   "execution_count": 1,
   "metadata": {},
   "outputs": [],
   "source": [
    "import numpy as np \n",
    "import matplotlib.pyplot as plt\n",
    "\n",
    "%matplotlib inline"
   ]
  },
  {
   "cell_type": "code",
   "execution_count": 2,
   "metadata": {},
   "outputs": [],
   "source": [
    "class Ising2D:\n",
    "    def __init__(self,system,J,N,T,H,steps):\n",
    "        #initialize the system variables \n",
    "        \n",
    "        if system == \"aligned\":\n",
    "            self.system = np.ones((N,N), dtype=int)      # N x N matrix of dipoles with spin up (1)\n",
    "        elif system == \"random\":\n",
    "            self.system =  2*np.random.randint(2, size = (N,N)) - 1     # N x N matrix of dipoles with spin up (1) or spin down (-1)\n",
    "        else:\n",
    "            print(\"Invalid system argument: input 'aligned' or 'random'\")\n",
    "            \n",
    "        self.J      = J \n",
    "        self.N      = N           # Number of lattice points (dipoles) in the system\n",
    "        self.T      = T           # Temperature of system\n",
    "        self.H      = H           # External magnetic field\n",
    "        self.steps  = steps       # Number of monte carlo steps \n",
    "        \n",
    "        #initialize system parameters\n",
    "        \n",
    "        self.E_tot  = self.getTotalEnergy()\n",
    "        self.M      = np.sum(self.system.astype(float))/(self.N**2)\n",
    "        \n",
    "    def getNeighbors(self,i,j):\n",
    "        neighborhood =  self.system[(i+1)%self.N, j] + self.system[i,(j+1)%self.N] + self.system[(i-1)%self.N, j] + self.system[i,(j-1)%self.N]\n",
    "        return neighborhood\n",
    "        \n",
    "    def getEnergy(self,i,j):\n",
    "        s = self.system[i,j]\n",
    "        neighborhood = self.getNeighbors(i,j)\n",
    "        energy = ((-s * neighborhood) - (self.H * s))\n",
    "        return energy\n",
    "        \n",
    "    def getTotalEnergy(self):\n",
    "        energy = 0\n",
    "        for i in range(self.N):\n",
    "            for j in range(self.N):\n",
    "                energy += self.getEnergy(i,j)\n",
    "        return energy/2\n",
    "        \n",
    "        \n",
    "    def getMagnetization(self):\n",
    "        self.M = np.sum(self.system.astype(float))/(self.N**2)\n",
    "    \n",
    "    def metropolisStep(self,i,j):\n",
    "        #calculate the contribution to energy at the specified lattice point before flipping spin\n",
    "        #print(self.system)\n",
    "        #print(self.E_tot)\n",
    "        beta = 1/self.T\n",
    "        E_i = self.getEnergy(i,j)\n",
    "        #print('initial energy:', E_i)\n",
    "        #flip the spin at position i,j\n",
    "        self.system[i,j] *= -1\n",
    "        #calculate the contribution to energy at specified lattice point after flipping spin\n",
    "        E_f = self.getEnergy(i,j)\n",
    "        #print('final energy:', E_f)\n",
    "        dE = E_f - E_i\n",
    "        #if the change in energy is negative, update the system energy and keep flipped spin. Do the same if Boltzman condition is satisfied. If not flip the spin back and do not update energy\n",
    "        if dE < 0:\n",
    "            #print('flip accepted')\n",
    "            self.E_tot += dE\n",
    "        elif np.random.rand() < np.exp(-beta*dE):\n",
    "            #print('flip accepted by chance')\n",
    "            self.E_tot += dE\n",
    "        else:\n",
    "            #print('flip rejected')\n",
    "            self.system[i,j] *= -1\n",
    "        self.getMagnetization()\n",
    "            \n",
    "    def run(self):\n",
    "        for l in range(self.steps):\n",
    "            i = np.random.randint(self.N)\n",
    "            j = np.random.randint(self.N)\n",
    "            self.metropolisStep(i,j)\n",
    "    \n",
    "    def test(self):\n",
    "        M = []\n",
    "        for l in range(self.steps):\n",
    "            i = np.random.randint(self.N)\n",
    "            j = np.random.randint(self.N)\n",
    "            self.metropolisStep(i,j)\n",
    "            M.append(self.M)\n",
    "        return M\n",
    "            \n",
    "    def changingTemp(self,temps):\n",
    "        a1 = np.linspace(0.0001, 2, 10)\n",
    "        a2 = np.linspace(2, 3, 100)\n",
    "        a3 = np.linspace(3,10,80)\n",
    "        a4 = np.linspace(10,30,100)\n",
    "        temp_array = np.concatenate((a1, a2,a3))\n",
    "        temp_array_hot = np.concatenate((a1,a2,a3,a4))\n",
    "        if temps == \"cool\":\n",
    "            temps = temp_array.flip()\n",
    "        elif temps == \"heat\":\n",
    "            temps = temp_array\n",
    "        elif temps == \"hotcool\":\n",
    "            temps = temp_array_hot.fliplr()\n",
    "        else:\n",
    "            print(\"Error: invalid temps argument\")\n",
    "            return\n",
    "        E = []\n",
    "        M = []\n",
    "        for i in np.nditer(temps):\n",
    "            self.T = i\n",
    "            self.run()\n",
    "            E.append(self.E_tot)\n",
    "            M.append(self.M)\n",
    "        return E,M,temps\n",
    "        \n",
    "        \n",
    "        \n",
    "   "
   ]
  },
  {
   "cell_type": "code",
   "execution_count": null,
   "metadata": {},
   "outputs": [],
   "source": [
    "N = 25\n",
    "T = 10\n",
    "J = 1\n",
    "H = 0\n",
    "steps = 2500\n",
    "\n",
    "\n",
    "Ising = Ising2D('aligned',J,N,T,H,steps)\n",
    "#Ising.run()"
   ]
  },
  {
   "cell_type": "code",
   "execution_count": null,
   "metadata": {},
   "outputs": [],
   "source": [
    "E,M,temps = Ising.changingTemp('heat')\n",
    "\n",
    "def mag(T):\n",
    "    z = np.exp(-2/T)\n",
    "    if T > 2.269185:\n",
    "        return 0\n",
    "    else:\n",
    "        return (((1 + z**2)**(.25))*(1-6*z**2 + z**4)**(.125))/np.sqrt((1-z**2))\n",
    "\n",
    "mags = []\n",
    "for i in np.nditer(temps):\n",
    "    mags.append(mag(i))"
   ]
  },
  {
   "cell_type": "code",
   "execution_count": null,
   "metadata": {},
   "outputs": [],
   "source": [
    "plt.scatter(temps,np.array(E)/625, color = 'r')\n",
    "#plt.scatter(temps,M, color = 'b')\n",
    "#plt.plot(temps,mags)\n",
    "plt.show()\n",
    "        "
   ]
  },
  {
   "cell_type": "code",
   "execution_count": null,
   "metadata": {},
   "outputs": [],
   "source": [
    "plt.scatter(temps,M, color = 'b')\n",
    "plt.plot(temps,mags)\n",
    "plt.show()"
   ]
  },
  {
   "cell_type": "code",
   "execution_count": 4,
   "metadata": {},
   "outputs": [
    {
     "ename": "NameError",
     "evalue": "name 'Ising' is not defined",
     "output_type": "error",
     "traceback": [
      "\u001b[0;31m---------------------------------------------------------------------------\u001b[0m",
      "\u001b[0;31mNameError\u001b[0m                                 Traceback (most recent call last)",
      "\u001b[0;32m<ipython-input-4-bc3bb31dc138>\u001b[0m in \u001b[0;36m<module>\u001b[0;34m\u001b[0m\n\u001b[1;32m      6\u001b[0m \u001b[0;34m\u001b[0m\u001b[0m\n\u001b[1;32m      7\u001b[0m \u001b[0mIsing2\u001b[0m \u001b[0;34m=\u001b[0m \u001b[0mIsing2D\u001b[0m\u001b[0;34m(\u001b[0m\u001b[0;34m'aligned'\u001b[0m\u001b[0;34m,\u001b[0m\u001b[0mJ\u001b[0m\u001b[0;34m,\u001b[0m\u001b[0mN\u001b[0m\u001b[0;34m,\u001b[0m\u001b[0mT\u001b[0m\u001b[0;34m,\u001b[0m\u001b[0mH2\u001b[0m\u001b[0;34m,\u001b[0m\u001b[0msteps\u001b[0m\u001b[0;34m)\u001b[0m\u001b[0;34m\u001b[0m\u001b[0m\n\u001b[0;32m----> 8\u001b[0;31m \u001b[0mE2\u001b[0m\u001b[0;34m,\u001b[0m\u001b[0mM2\u001b[0m\u001b[0;34m,\u001b[0m\u001b[0mtemps\u001b[0m \u001b[0;34m=\u001b[0m \u001b[0mIsing\u001b[0m\u001b[0;34m.\u001b[0m\u001b[0mchangingTemp\u001b[0m\u001b[0;34m(\u001b[0m\u001b[0;34m'heat'\u001b[0m\u001b[0;34m)\u001b[0m\u001b[0;34m\u001b[0m\u001b[0m\n\u001b[0m",
      "\u001b[0;31mNameError\u001b[0m: name 'Ising' is not defined"
     ]
    }
   ],
   "source": [
    "N = 25\n",
    "T = 10\n",
    "J = 1\n",
    "H2 = 2\n",
    "steps = 2500 \n",
    "\n",
    "Ising2 = Ising2D('aligned',J,N,T,H2,steps)\n",
    "E2,M2,temps = Ising2.changingTemp('heat')"
   ]
  },
  {
   "cell_type": "code",
   "execution_count": null,
   "metadata": {},
   "outputs": [],
   "source": [
    "plt.scatter(temps,np.array(E2)/625, color = 'r')\n",
    "#plt.scatter(temps,M, color = 'b')\n",
    "#plt.plot(temps,mags)\n",
    "plt.show()\n",
    "        "
   ]
  },
  {
   "cell_type": "code",
   "execution_count": null,
   "metadata": {},
   "outputs": [],
   "source": [
    "plt.scatter(temps,M2, color = 'b')\n",
    "plt.show()"
   ]
  },
  {
   "cell_type": "code",
   "execution_count": 6,
   "metadata": {},
   "outputs": [
    {
     "name": "stdout",
     "output_type": "stream",
     "text": [
      "[9 8 7 6 5 4 3 2 1 0]\n"
     ]
    }
   ],
   "source": [
    "t = np.arange(10)\n",
    "t = np.flip(t)\n",
    "print(t)"
   ]
  },
  {
   "cell_type": "code",
   "execution_count": 7,
   "metadata": {},
   "outputs": [],
   "source": [
    "a1 = np.linspace(0.0001, 2, 10)\n",
    "a2 = np.linspace(2, 3, 100)\n",
    "a3 = np.linspace(3,10,80)\n",
    "a4 = np.linspace(10,30,100)\n",
    "temp_array = np.concatenate((a1, a2,a3))\n",
    "temp_array_hot = np.concatenate((a1,a2,a3,a4))\n",
    "temps = np.flip(temp_array_hot)"
   ]
  },
  {
   "cell_type": "code",
   "execution_count": 8,
   "metadata": {},
   "outputs": [
    {
     "data": {
      "text/plain": [
       "array([3.00000000e+01, 2.97979798e+01, 2.95959596e+01, 2.93939394e+01,\n",
       "       2.91919192e+01, 2.89898990e+01, 2.87878788e+01, 2.85858586e+01,\n",
       "       2.83838384e+01, 2.81818182e+01, 2.79797980e+01, 2.77777778e+01,\n",
       "       2.75757576e+01, 2.73737374e+01, 2.71717172e+01, 2.69696970e+01,\n",
       "       2.67676768e+01, 2.65656566e+01, 2.63636364e+01, 2.61616162e+01,\n",
       "       2.59595960e+01, 2.57575758e+01, 2.55555556e+01, 2.53535354e+01,\n",
       "       2.51515152e+01, 2.49494949e+01, 2.47474747e+01, 2.45454545e+01,\n",
       "       2.43434343e+01, 2.41414141e+01, 2.39393939e+01, 2.37373737e+01,\n",
       "       2.35353535e+01, 2.33333333e+01, 2.31313131e+01, 2.29292929e+01,\n",
       "       2.27272727e+01, 2.25252525e+01, 2.23232323e+01, 2.21212121e+01,\n",
       "       2.19191919e+01, 2.17171717e+01, 2.15151515e+01, 2.13131313e+01,\n",
       "       2.11111111e+01, 2.09090909e+01, 2.07070707e+01, 2.05050505e+01,\n",
       "       2.03030303e+01, 2.01010101e+01, 1.98989899e+01, 1.96969697e+01,\n",
       "       1.94949495e+01, 1.92929293e+01, 1.90909091e+01, 1.88888889e+01,\n",
       "       1.86868687e+01, 1.84848485e+01, 1.82828283e+01, 1.80808081e+01,\n",
       "       1.78787879e+01, 1.76767677e+01, 1.74747475e+01, 1.72727273e+01,\n",
       "       1.70707071e+01, 1.68686869e+01, 1.66666667e+01, 1.64646465e+01,\n",
       "       1.62626263e+01, 1.60606061e+01, 1.58585859e+01, 1.56565657e+01,\n",
       "       1.54545455e+01, 1.52525253e+01, 1.50505051e+01, 1.48484848e+01,\n",
       "       1.46464646e+01, 1.44444444e+01, 1.42424242e+01, 1.40404040e+01,\n",
       "       1.38383838e+01, 1.36363636e+01, 1.34343434e+01, 1.32323232e+01,\n",
       "       1.30303030e+01, 1.28282828e+01, 1.26262626e+01, 1.24242424e+01,\n",
       "       1.22222222e+01, 1.20202020e+01, 1.18181818e+01, 1.16161616e+01,\n",
       "       1.14141414e+01, 1.12121212e+01, 1.10101010e+01, 1.08080808e+01,\n",
       "       1.06060606e+01, 1.04040404e+01, 1.02020202e+01, 1.00000000e+01,\n",
       "       1.00000000e+01, 9.91139241e+00, 9.82278481e+00, 9.73417722e+00,\n",
       "       9.64556962e+00, 9.55696203e+00, 9.46835443e+00, 9.37974684e+00,\n",
       "       9.29113924e+00, 9.20253165e+00, 9.11392405e+00, 9.02531646e+00,\n",
       "       8.93670886e+00, 8.84810127e+00, 8.75949367e+00, 8.67088608e+00,\n",
       "       8.58227848e+00, 8.49367089e+00, 8.40506329e+00, 8.31645570e+00,\n",
       "       8.22784810e+00, 8.13924051e+00, 8.05063291e+00, 7.96202532e+00,\n",
       "       7.87341772e+00, 7.78481013e+00, 7.69620253e+00, 7.60759494e+00,\n",
       "       7.51898734e+00, 7.43037975e+00, 7.34177215e+00, 7.25316456e+00,\n",
       "       7.16455696e+00, 7.07594937e+00, 6.98734177e+00, 6.89873418e+00,\n",
       "       6.81012658e+00, 6.72151899e+00, 6.63291139e+00, 6.54430380e+00,\n",
       "       6.45569620e+00, 6.36708861e+00, 6.27848101e+00, 6.18987342e+00,\n",
       "       6.10126582e+00, 6.01265823e+00, 5.92405063e+00, 5.83544304e+00,\n",
       "       5.74683544e+00, 5.65822785e+00, 5.56962025e+00, 5.48101266e+00,\n",
       "       5.39240506e+00, 5.30379747e+00, 5.21518987e+00, 5.12658228e+00,\n",
       "       5.03797468e+00, 4.94936709e+00, 4.86075949e+00, 4.77215190e+00,\n",
       "       4.68354430e+00, 4.59493671e+00, 4.50632911e+00, 4.41772152e+00,\n",
       "       4.32911392e+00, 4.24050633e+00, 4.15189873e+00, 4.06329114e+00,\n",
       "       3.97468354e+00, 3.88607595e+00, 3.79746835e+00, 3.70886076e+00,\n",
       "       3.62025316e+00, 3.53164557e+00, 3.44303797e+00, 3.35443038e+00,\n",
       "       3.26582278e+00, 3.17721519e+00, 3.08860759e+00, 3.00000000e+00,\n",
       "       3.00000000e+00, 2.98989899e+00, 2.97979798e+00, 2.96969697e+00,\n",
       "       2.95959596e+00, 2.94949495e+00, 2.93939394e+00, 2.92929293e+00,\n",
       "       2.91919192e+00, 2.90909091e+00, 2.89898990e+00, 2.88888889e+00,\n",
       "       2.87878788e+00, 2.86868687e+00, 2.85858586e+00, 2.84848485e+00,\n",
       "       2.83838384e+00, 2.82828283e+00, 2.81818182e+00, 2.80808081e+00,\n",
       "       2.79797980e+00, 2.78787879e+00, 2.77777778e+00, 2.76767677e+00,\n",
       "       2.75757576e+00, 2.74747475e+00, 2.73737374e+00, 2.72727273e+00,\n",
       "       2.71717172e+00, 2.70707071e+00, 2.69696970e+00, 2.68686869e+00,\n",
       "       2.67676768e+00, 2.66666667e+00, 2.65656566e+00, 2.64646465e+00,\n",
       "       2.63636364e+00, 2.62626263e+00, 2.61616162e+00, 2.60606061e+00,\n",
       "       2.59595960e+00, 2.58585859e+00, 2.57575758e+00, 2.56565657e+00,\n",
       "       2.55555556e+00, 2.54545455e+00, 2.53535354e+00, 2.52525253e+00,\n",
       "       2.51515152e+00, 2.50505051e+00, 2.49494949e+00, 2.48484848e+00,\n",
       "       2.47474747e+00, 2.46464646e+00, 2.45454545e+00, 2.44444444e+00,\n",
       "       2.43434343e+00, 2.42424242e+00, 2.41414141e+00, 2.40404040e+00,\n",
       "       2.39393939e+00, 2.38383838e+00, 2.37373737e+00, 2.36363636e+00,\n",
       "       2.35353535e+00, 2.34343434e+00, 2.33333333e+00, 2.32323232e+00,\n",
       "       2.31313131e+00, 2.30303030e+00, 2.29292929e+00, 2.28282828e+00,\n",
       "       2.27272727e+00, 2.26262626e+00, 2.25252525e+00, 2.24242424e+00,\n",
       "       2.23232323e+00, 2.22222222e+00, 2.21212121e+00, 2.20202020e+00,\n",
       "       2.19191919e+00, 2.18181818e+00, 2.17171717e+00, 2.16161616e+00,\n",
       "       2.15151515e+00, 2.14141414e+00, 2.13131313e+00, 2.12121212e+00,\n",
       "       2.11111111e+00, 2.10101010e+00, 2.09090909e+00, 2.08080808e+00,\n",
       "       2.07070707e+00, 2.06060606e+00, 2.05050505e+00, 2.04040404e+00,\n",
       "       2.03030303e+00, 2.02020202e+00, 2.01010101e+00, 2.00000000e+00,\n",
       "       2.00000000e+00, 1.77778889e+00, 1.55557778e+00, 1.33336667e+00,\n",
       "       1.11115556e+00, 8.88944444e-01, 6.66733333e-01, 4.44522222e-01,\n",
       "       2.22311111e-01, 1.00000000e-04])"
      ]
     },
     "execution_count": 8,
     "metadata": {},
     "output_type": "execute_result"
    }
   ],
   "source": [
    "temps"
   ]
  },
  {
   "cell_type": "code",
   "execution_count": null,
   "metadata": {},
   "outputs": [],
   "source": []
  }
 ],
 "metadata": {
  "kernelspec": {
   "display_name": "Python 3",
   "language": "python",
   "name": "python3"
  },
  "language_info": {
   "codemirror_mode": {
    "name": "ipython",
    "version": 3
   },
   "file_extension": ".py",
   "mimetype": "text/x-python",
   "name": "python",
   "nbconvert_exporter": "python",
   "pygments_lexer": "ipython3",
   "version": "3.6.5"
  }
 },
 "nbformat": 4,
 "nbformat_minor": 2
}
